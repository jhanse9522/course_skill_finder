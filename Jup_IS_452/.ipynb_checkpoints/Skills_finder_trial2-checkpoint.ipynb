{
 "cells": [
  {
   "cell_type": "code",
   "execution_count": null,
   "metadata": {},
   "outputs": [],
   "source": [
    "fhand = open(\"play_syllabus_prototype\", \"r\")\n",
    "filein = fhand.read()  # my text string\n",
    "fhand.close()\n",
    "\n",
    "lines = filein.split(\"/n\")  # my text as list of lines\n",
    "\n",
    "import spacy\n",
    "from nltk import Tree\n",
    "\n",
    "dependency_parser = spacy.load('en')\n",
    "\n",
    "parsed_courses = dependency_parser(filein)\n",
    "\n",
    "def to_nltk_tree(root_node):\n",
    "    if root_node.n_lefts + root_node.n_rights > 0:\n",
    "        parsed_child_nodes = [to_nltk_tree(child) for child in node.children]\n",
    "        return Tree(node.orth_, parsed_child_nodes)\n",
    "    else:\n",
    "        return node.orth_\n",
    "    \n",
    "for sent in parsed_courses.sents:\n",
    "    to_nltk_tree(sent.root).pretty_print()"
   ]
  }
 ],
 "metadata": {
  "kernelspec": {
   "display_name": "Python 3",
   "language": "python",
   "name": "python3"
  },
  "language_info": {
   "codemirror_mode": {
    "name": "ipython",
    "version": 3
   },
   "file_extension": ".py",
   "mimetype": "text/x-python",
   "name": "python",
   "nbconvert_exporter": "python",
   "pygments_lexer": "ipython3",
   "version": "3.7.4"
  }
 },
 "nbformat": 4,
 "nbformat_minor": 2
}
